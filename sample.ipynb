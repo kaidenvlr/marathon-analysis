{
 "cells": [
  {
   "metadata": {},
   "cell_type": "markdown",
   "source": [
    "import libraries\n",
    "dataset from https://www.kaggle.com/datasets/aiaiaidavid/the-big-dataset-of-ultra-marathon-running/data"
   ],
   "id": "e069b0ae781960ac"
  },
  {
   "metadata": {
    "ExecuteTime": {
     "end_time": "2024-08-09T09:43:24.161985Z",
     "start_time": "2024-08-09T09:43:24.159496Z"
    }
   },
   "cell_type": "code",
   "source": [
    "import pandas as pd\n",
    "import seaborn as sns"
   ],
   "id": "f74ba460d9792a91",
   "outputs": [],
   "execution_count": 604
  },
  {
   "metadata": {
    "ExecuteTime": {
     "end_time": "2024-08-09T09:43:32.750039Z",
     "start_time": "2024-08-09T09:43:24.311307Z"
    }
   },
   "cell_type": "code",
   "source": "df = pd.read_csv('data/TWO_CENTURIES_OF_UM_RACES.csv', low_memory=False)",
   "id": "2a2223e082b7d84c",
   "outputs": [],
   "execution_count": 605
  },
  {
   "metadata": {
    "ExecuteTime": {
     "end_time": "2024-08-09T09:43:32.759950Z",
     "start_time": "2024-08-09T09:43:32.751041Z"
    }
   },
   "cell_type": "code",
   "source": "df.head(10)",
   "id": "3405ffd5073f48aa",
   "outputs": [
    {
     "data": {
      "text/plain": [
       "   Year of event Event dates           Event name Event distance/length  \\\n",
       "0           2018  06.01.2018  Selva Costera (CHI)                  50km   \n",
       "1           2018  06.01.2018  Selva Costera (CHI)                  50km   \n",
       "2           2018  06.01.2018  Selva Costera (CHI)                  50km   \n",
       "3           2018  06.01.2018  Selva Costera (CHI)                  50km   \n",
       "4           2018  06.01.2018  Selva Costera (CHI)                  50km   \n",
       "5           2018  06.01.2018  Selva Costera (CHI)                  50km   \n",
       "6           2018  06.01.2018  Selva Costera (CHI)                  50km   \n",
       "7           2018  06.01.2018  Selva Costera (CHI)                  50km   \n",
       "8           2018  06.01.2018  Selva Costera (CHI)                  50km   \n",
       "9           2018  06.01.2018  Selva Costera (CHI)                  50km   \n",
       "\n",
       "   Event number of finishers Athlete performance         Athlete club  \\\n",
       "0                         22           4:51:39 h                Tnfrc   \n",
       "1                         22           5:15:45 h   Roberto Echeverría   \n",
       "2                         22           5:16:44 h    Puro Trail Osorno   \n",
       "3                         22           5:34:13 h             Columbia   \n",
       "4                         22           5:54:14 h       Baguales Trail   \n",
       "5                         22           6:25:01 h                  NaN   \n",
       "6                         22           6:28:00 h        Los Patagones   \n",
       "7                         22           6:32:24 h       Reaktiva Chile   \n",
       "8                         22           6:39:08 h    Puro Trail Osorno   \n",
       "9                         22           6:45:11 h  Marlene Flores Team   \n",
       "\n",
       "  Athlete country  Athlete year of birth Athlete gender Athlete age category  \\\n",
       "0             CHI                 1978.0              M                  M35   \n",
       "1             CHI                 1981.0              M                  M35   \n",
       "2             CHI                 1987.0              M                  M23   \n",
       "3             ARG                 1976.0              M                  M40   \n",
       "4             CHI                 1992.0              M                  M23   \n",
       "5             ARG                 1974.0              M                  M40   \n",
       "6             ARG                 1979.0              F                  W35   \n",
       "7             CHI                 1967.0              F                  W50   \n",
       "8             CHI                 1985.0              M                  M23   \n",
       "9             CHI                 1976.0              M                  M40   \n",
       "\n",
       "  Athlete average speed  Athlete ID  \n",
       "0                10.286           0  \n",
       "1                 9.501           1  \n",
       "2                 9.472           2  \n",
       "3                 8.976           3  \n",
       "4                 8.469           4  \n",
       "5                 7.792           5  \n",
       "6                 7.732           6  \n",
       "7                 7.645           7  \n",
       "8                 7.516           8  \n",
       "9                 7.404           9  "
      ],
      "text/html": [
       "<div>\n",
       "<style scoped>\n",
       "    .dataframe tbody tr th:only-of-type {\n",
       "        vertical-align: middle;\n",
       "    }\n",
       "\n",
       "    .dataframe tbody tr th {\n",
       "        vertical-align: top;\n",
       "    }\n",
       "\n",
       "    .dataframe thead th {\n",
       "        text-align: right;\n",
       "    }\n",
       "</style>\n",
       "<table border=\"1\" class=\"dataframe\">\n",
       "  <thead>\n",
       "    <tr style=\"text-align: right;\">\n",
       "      <th></th>\n",
       "      <th>Year of event</th>\n",
       "      <th>Event dates</th>\n",
       "      <th>Event name</th>\n",
       "      <th>Event distance/length</th>\n",
       "      <th>Event number of finishers</th>\n",
       "      <th>Athlete performance</th>\n",
       "      <th>Athlete club</th>\n",
       "      <th>Athlete country</th>\n",
       "      <th>Athlete year of birth</th>\n",
       "      <th>Athlete gender</th>\n",
       "      <th>Athlete age category</th>\n",
       "      <th>Athlete average speed</th>\n",
       "      <th>Athlete ID</th>\n",
       "    </tr>\n",
       "  </thead>\n",
       "  <tbody>\n",
       "    <tr>\n",
       "      <th>0</th>\n",
       "      <td>2018</td>\n",
       "      <td>06.01.2018</td>\n",
       "      <td>Selva Costera (CHI)</td>\n",
       "      <td>50km</td>\n",
       "      <td>22</td>\n",
       "      <td>4:51:39 h</td>\n",
       "      <td>Tnfrc</td>\n",
       "      <td>CHI</td>\n",
       "      <td>1978.0</td>\n",
       "      <td>M</td>\n",
       "      <td>M35</td>\n",
       "      <td>10.286</td>\n",
       "      <td>0</td>\n",
       "    </tr>\n",
       "    <tr>\n",
       "      <th>1</th>\n",
       "      <td>2018</td>\n",
       "      <td>06.01.2018</td>\n",
       "      <td>Selva Costera (CHI)</td>\n",
       "      <td>50km</td>\n",
       "      <td>22</td>\n",
       "      <td>5:15:45 h</td>\n",
       "      <td>Roberto Echeverría</td>\n",
       "      <td>CHI</td>\n",
       "      <td>1981.0</td>\n",
       "      <td>M</td>\n",
       "      <td>M35</td>\n",
       "      <td>9.501</td>\n",
       "      <td>1</td>\n",
       "    </tr>\n",
       "    <tr>\n",
       "      <th>2</th>\n",
       "      <td>2018</td>\n",
       "      <td>06.01.2018</td>\n",
       "      <td>Selva Costera (CHI)</td>\n",
       "      <td>50km</td>\n",
       "      <td>22</td>\n",
       "      <td>5:16:44 h</td>\n",
       "      <td>Puro Trail Osorno</td>\n",
       "      <td>CHI</td>\n",
       "      <td>1987.0</td>\n",
       "      <td>M</td>\n",
       "      <td>M23</td>\n",
       "      <td>9.472</td>\n",
       "      <td>2</td>\n",
       "    </tr>\n",
       "    <tr>\n",
       "      <th>3</th>\n",
       "      <td>2018</td>\n",
       "      <td>06.01.2018</td>\n",
       "      <td>Selva Costera (CHI)</td>\n",
       "      <td>50km</td>\n",
       "      <td>22</td>\n",
       "      <td>5:34:13 h</td>\n",
       "      <td>Columbia</td>\n",
       "      <td>ARG</td>\n",
       "      <td>1976.0</td>\n",
       "      <td>M</td>\n",
       "      <td>M40</td>\n",
       "      <td>8.976</td>\n",
       "      <td>3</td>\n",
       "    </tr>\n",
       "    <tr>\n",
       "      <th>4</th>\n",
       "      <td>2018</td>\n",
       "      <td>06.01.2018</td>\n",
       "      <td>Selva Costera (CHI)</td>\n",
       "      <td>50km</td>\n",
       "      <td>22</td>\n",
       "      <td>5:54:14 h</td>\n",
       "      <td>Baguales Trail</td>\n",
       "      <td>CHI</td>\n",
       "      <td>1992.0</td>\n",
       "      <td>M</td>\n",
       "      <td>M23</td>\n",
       "      <td>8.469</td>\n",
       "      <td>4</td>\n",
       "    </tr>\n",
       "    <tr>\n",
       "      <th>5</th>\n",
       "      <td>2018</td>\n",
       "      <td>06.01.2018</td>\n",
       "      <td>Selva Costera (CHI)</td>\n",
       "      <td>50km</td>\n",
       "      <td>22</td>\n",
       "      <td>6:25:01 h</td>\n",
       "      <td>NaN</td>\n",
       "      <td>ARG</td>\n",
       "      <td>1974.0</td>\n",
       "      <td>M</td>\n",
       "      <td>M40</td>\n",
       "      <td>7.792</td>\n",
       "      <td>5</td>\n",
       "    </tr>\n",
       "    <tr>\n",
       "      <th>6</th>\n",
       "      <td>2018</td>\n",
       "      <td>06.01.2018</td>\n",
       "      <td>Selva Costera (CHI)</td>\n",
       "      <td>50km</td>\n",
       "      <td>22</td>\n",
       "      <td>6:28:00 h</td>\n",
       "      <td>Los Patagones</td>\n",
       "      <td>ARG</td>\n",
       "      <td>1979.0</td>\n",
       "      <td>F</td>\n",
       "      <td>W35</td>\n",
       "      <td>7.732</td>\n",
       "      <td>6</td>\n",
       "    </tr>\n",
       "    <tr>\n",
       "      <th>7</th>\n",
       "      <td>2018</td>\n",
       "      <td>06.01.2018</td>\n",
       "      <td>Selva Costera (CHI)</td>\n",
       "      <td>50km</td>\n",
       "      <td>22</td>\n",
       "      <td>6:32:24 h</td>\n",
       "      <td>Reaktiva Chile</td>\n",
       "      <td>CHI</td>\n",
       "      <td>1967.0</td>\n",
       "      <td>F</td>\n",
       "      <td>W50</td>\n",
       "      <td>7.645</td>\n",
       "      <td>7</td>\n",
       "    </tr>\n",
       "    <tr>\n",
       "      <th>8</th>\n",
       "      <td>2018</td>\n",
       "      <td>06.01.2018</td>\n",
       "      <td>Selva Costera (CHI)</td>\n",
       "      <td>50km</td>\n",
       "      <td>22</td>\n",
       "      <td>6:39:08 h</td>\n",
       "      <td>Puro Trail Osorno</td>\n",
       "      <td>CHI</td>\n",
       "      <td>1985.0</td>\n",
       "      <td>M</td>\n",
       "      <td>M23</td>\n",
       "      <td>7.516</td>\n",
       "      <td>8</td>\n",
       "    </tr>\n",
       "    <tr>\n",
       "      <th>9</th>\n",
       "      <td>2018</td>\n",
       "      <td>06.01.2018</td>\n",
       "      <td>Selva Costera (CHI)</td>\n",
       "      <td>50km</td>\n",
       "      <td>22</td>\n",
       "      <td>6:45:11 h</td>\n",
       "      <td>Marlene Flores Team</td>\n",
       "      <td>CHI</td>\n",
       "      <td>1976.0</td>\n",
       "      <td>M</td>\n",
       "      <td>M40</td>\n",
       "      <td>7.404</td>\n",
       "      <td>9</td>\n",
       "    </tr>\n",
       "  </tbody>\n",
       "</table>\n",
       "</div>"
      ]
     },
     "execution_count": 606,
     "metadata": {},
     "output_type": "execute_result"
    }
   ],
   "execution_count": 606
  },
  {
   "metadata": {
    "ExecuteTime": {
     "end_time": "2024-08-09T09:43:32.763723Z",
     "start_time": "2024-08-09T09:43:32.759950Z"
    }
   },
   "cell_type": "code",
   "source": "df.shape",
   "id": "c234eb3d2918fb61",
   "outputs": [
    {
     "data": {
      "text/plain": [
       "(7461195, 13)"
      ]
     },
     "execution_count": 607,
     "metadata": {},
     "output_type": "execute_result"
    }
   ],
   "execution_count": 607
  },
  {
   "metadata": {
    "ExecuteTime": {
     "end_time": "2024-08-09T09:43:32.767932Z",
     "start_time": "2024-08-09T09:43:32.763723Z"
    }
   },
   "cell_type": "code",
   "source": "df.dtypes",
   "id": "877e104160336fa0",
   "outputs": [
    {
     "data": {
      "text/plain": [
       "Year of event                  int64\n",
       "Event dates                   object\n",
       "Event name                    object\n",
       "Event distance/length         object\n",
       "Event number of finishers      int64\n",
       "Athlete performance           object\n",
       "Athlete club                  object\n",
       "Athlete country               object\n",
       "Athlete year of birth        float64\n",
       "Athlete gender                object\n",
       "Athlete age category          object\n",
       "Athlete average speed         object\n",
       "Athlete ID                     int64\n",
       "dtype: object"
      ]
     },
     "execution_count": 608,
     "metadata": {},
     "output_type": "execute_result"
    }
   ],
   "execution_count": 608
  },
  {
   "metadata": {
    "ExecuteTime": {
     "end_time": "2024-08-09T09:43:32.771302Z",
     "start_time": "2024-08-09T09:43:32.768935Z"
    }
   },
   "cell_type": "code",
   "source": "# cleanup data",
   "id": "10beba57119ecd15",
   "outputs": [],
   "execution_count": 609
  },
  {
   "metadata": {
    "ExecuteTime": {
     "end_time": "2024-08-09T09:43:32.774329Z",
     "start_time": "2024-08-09T09:43:32.771302Z"
    }
   },
   "cell_type": "code",
   "source": "# only want KAZ races, over 2010 year",
   "id": "23a563b365e54765",
   "outputs": [],
   "execution_count": 610
  },
  {
   "metadata": {
    "ExecuteTime": {
     "end_time": "2024-08-09T09:43:34.457143Z",
     "start_time": "2024-08-09T09:43:32.774329Z"
    }
   },
   "cell_type": "code",
   "source": "df2 = df[(df['Year of event'] >= 2010) & (df['Event name'].str.contains('KAZ'))]",
   "id": "73436fe43b7bb7af",
   "outputs": [],
   "execution_count": 611
  },
  {
   "metadata": {
    "ExecuteTime": {
     "end_time": "2024-08-09T09:43:34.466594Z",
     "start_time": "2024-08-09T09:43:34.458144Z"
    }
   },
   "cell_type": "code",
   "source": "df2.head(10)",
   "id": "730de69bd62af256",
   "outputs": [
    {
     "data": {
      "text/plain": [
       "        Year of event Event dates          Event name Event distance/length  \\\n",
       "312803           2018  07.05.2018  Tengri Ultra (KAZ)                  70km   \n",
       "312804           2018  07.05.2018  Tengri Ultra (KAZ)                  70km   \n",
       "312805           2018  07.05.2018  Tengri Ultra (KAZ)                  70km   \n",
       "312806           2018  07.05.2018  Tengri Ultra (KAZ)                  70km   \n",
       "312807           2018  07.05.2018  Tengri Ultra (KAZ)                  70km   \n",
       "312808           2018  07.05.2018  Tengri Ultra (KAZ)                  70km   \n",
       "312809           2018  07.05.2018  Tengri Ultra (KAZ)                  70km   \n",
       "312810           2018  07.05.2018  Tengri Ultra (KAZ)                  70km   \n",
       "312811           2018  07.05.2018  Tengri Ultra (KAZ)                  70km   \n",
       "312812           2018  07.05.2018  Tengri Ultra (KAZ)                  70km   \n",
       "\n",
       "        Event number of finishers Athlete performance Athlete club  \\\n",
       "312803                         64           6:25:34 h          NaN   \n",
       "312804                         64           6:47:59 h          NaN   \n",
       "312805                         64           7:17:06 h          NaN   \n",
       "312806                         64           7:20:15 h          NaN   \n",
       "312807                         64           7:32:55 h          NaN   \n",
       "312808                         64           7:33:17 h          NaN   \n",
       "312809                         64           7:51:37 h          NaN   \n",
       "312810                         64           7:58:01 h          NaN   \n",
       "312811                         64           8:04:49 h          NaN   \n",
       "312812                         64           8:14:51 h          NaN   \n",
       "\n",
       "       Athlete country  Athlete year of birth Athlete gender  \\\n",
       "312803             RUS                 1983.0              M   \n",
       "312804             HUN                 1988.0              M   \n",
       "312805             RUS                 1990.0              F   \n",
       "312806             ESP                 1981.0              M   \n",
       "312807             KAZ                 1986.0              M   \n",
       "312808             KAZ                 1980.0              M   \n",
       "312809             KAZ                 1991.0              M   \n",
       "312810             KAZ                 1985.0              M   \n",
       "312811             KAZ                 1967.0              M   \n",
       "312812             KAZ                 1994.0              M   \n",
       "\n",
       "       Athlete age category Athlete average speed  Athlete ID  \n",
       "312803                  M23                10.893      151462  \n",
       "312804                  M23                10.295      214512  \n",
       "312805                  W23                 9.609      214513  \n",
       "312806                  M35                  9.54      109970  \n",
       "312807                  M23                 9.273      214514  \n",
       "312808                  M35                 9.266       57687  \n",
       "312809                  M23                 8.906      214515  \n",
       "312810                  M23                 8.786      214516  \n",
       "312811                  M50                 8.663      214517  \n",
       "312812                  M23                 8.487      214518  "
      ],
      "text/html": [
       "<div>\n",
       "<style scoped>\n",
       "    .dataframe tbody tr th:only-of-type {\n",
       "        vertical-align: middle;\n",
       "    }\n",
       "\n",
       "    .dataframe tbody tr th {\n",
       "        vertical-align: top;\n",
       "    }\n",
       "\n",
       "    .dataframe thead th {\n",
       "        text-align: right;\n",
       "    }\n",
       "</style>\n",
       "<table border=\"1\" class=\"dataframe\">\n",
       "  <thead>\n",
       "    <tr style=\"text-align: right;\">\n",
       "      <th></th>\n",
       "      <th>Year of event</th>\n",
       "      <th>Event dates</th>\n",
       "      <th>Event name</th>\n",
       "      <th>Event distance/length</th>\n",
       "      <th>Event number of finishers</th>\n",
       "      <th>Athlete performance</th>\n",
       "      <th>Athlete club</th>\n",
       "      <th>Athlete country</th>\n",
       "      <th>Athlete year of birth</th>\n",
       "      <th>Athlete gender</th>\n",
       "      <th>Athlete age category</th>\n",
       "      <th>Athlete average speed</th>\n",
       "      <th>Athlete ID</th>\n",
       "    </tr>\n",
       "  </thead>\n",
       "  <tbody>\n",
       "    <tr>\n",
       "      <th>312803</th>\n",
       "      <td>2018</td>\n",
       "      <td>07.05.2018</td>\n",
       "      <td>Tengri Ultra (KAZ)</td>\n",
       "      <td>70km</td>\n",
       "      <td>64</td>\n",
       "      <td>6:25:34 h</td>\n",
       "      <td>NaN</td>\n",
       "      <td>RUS</td>\n",
       "      <td>1983.0</td>\n",
       "      <td>M</td>\n",
       "      <td>M23</td>\n",
       "      <td>10.893</td>\n",
       "      <td>151462</td>\n",
       "    </tr>\n",
       "    <tr>\n",
       "      <th>312804</th>\n",
       "      <td>2018</td>\n",
       "      <td>07.05.2018</td>\n",
       "      <td>Tengri Ultra (KAZ)</td>\n",
       "      <td>70km</td>\n",
       "      <td>64</td>\n",
       "      <td>6:47:59 h</td>\n",
       "      <td>NaN</td>\n",
       "      <td>HUN</td>\n",
       "      <td>1988.0</td>\n",
       "      <td>M</td>\n",
       "      <td>M23</td>\n",
       "      <td>10.295</td>\n",
       "      <td>214512</td>\n",
       "    </tr>\n",
       "    <tr>\n",
       "      <th>312805</th>\n",
       "      <td>2018</td>\n",
       "      <td>07.05.2018</td>\n",
       "      <td>Tengri Ultra (KAZ)</td>\n",
       "      <td>70km</td>\n",
       "      <td>64</td>\n",
       "      <td>7:17:06 h</td>\n",
       "      <td>NaN</td>\n",
       "      <td>RUS</td>\n",
       "      <td>1990.0</td>\n",
       "      <td>F</td>\n",
       "      <td>W23</td>\n",
       "      <td>9.609</td>\n",
       "      <td>214513</td>\n",
       "    </tr>\n",
       "    <tr>\n",
       "      <th>312806</th>\n",
       "      <td>2018</td>\n",
       "      <td>07.05.2018</td>\n",
       "      <td>Tengri Ultra (KAZ)</td>\n",
       "      <td>70km</td>\n",
       "      <td>64</td>\n",
       "      <td>7:20:15 h</td>\n",
       "      <td>NaN</td>\n",
       "      <td>ESP</td>\n",
       "      <td>1981.0</td>\n",
       "      <td>M</td>\n",
       "      <td>M35</td>\n",
       "      <td>9.54</td>\n",
       "      <td>109970</td>\n",
       "    </tr>\n",
       "    <tr>\n",
       "      <th>312807</th>\n",
       "      <td>2018</td>\n",
       "      <td>07.05.2018</td>\n",
       "      <td>Tengri Ultra (KAZ)</td>\n",
       "      <td>70km</td>\n",
       "      <td>64</td>\n",
       "      <td>7:32:55 h</td>\n",
       "      <td>NaN</td>\n",
       "      <td>KAZ</td>\n",
       "      <td>1986.0</td>\n",
       "      <td>M</td>\n",
       "      <td>M23</td>\n",
       "      <td>9.273</td>\n",
       "      <td>214514</td>\n",
       "    </tr>\n",
       "    <tr>\n",
       "      <th>312808</th>\n",
       "      <td>2018</td>\n",
       "      <td>07.05.2018</td>\n",
       "      <td>Tengri Ultra (KAZ)</td>\n",
       "      <td>70km</td>\n",
       "      <td>64</td>\n",
       "      <td>7:33:17 h</td>\n",
       "      <td>NaN</td>\n",
       "      <td>KAZ</td>\n",
       "      <td>1980.0</td>\n",
       "      <td>M</td>\n",
       "      <td>M35</td>\n",
       "      <td>9.266</td>\n",
       "      <td>57687</td>\n",
       "    </tr>\n",
       "    <tr>\n",
       "      <th>312809</th>\n",
       "      <td>2018</td>\n",
       "      <td>07.05.2018</td>\n",
       "      <td>Tengri Ultra (KAZ)</td>\n",
       "      <td>70km</td>\n",
       "      <td>64</td>\n",
       "      <td>7:51:37 h</td>\n",
       "      <td>NaN</td>\n",
       "      <td>KAZ</td>\n",
       "      <td>1991.0</td>\n",
       "      <td>M</td>\n",
       "      <td>M23</td>\n",
       "      <td>8.906</td>\n",
       "      <td>214515</td>\n",
       "    </tr>\n",
       "    <tr>\n",
       "      <th>312810</th>\n",
       "      <td>2018</td>\n",
       "      <td>07.05.2018</td>\n",
       "      <td>Tengri Ultra (KAZ)</td>\n",
       "      <td>70km</td>\n",
       "      <td>64</td>\n",
       "      <td>7:58:01 h</td>\n",
       "      <td>NaN</td>\n",
       "      <td>KAZ</td>\n",
       "      <td>1985.0</td>\n",
       "      <td>M</td>\n",
       "      <td>M23</td>\n",
       "      <td>8.786</td>\n",
       "      <td>214516</td>\n",
       "    </tr>\n",
       "    <tr>\n",
       "      <th>312811</th>\n",
       "      <td>2018</td>\n",
       "      <td>07.05.2018</td>\n",
       "      <td>Tengri Ultra (KAZ)</td>\n",
       "      <td>70km</td>\n",
       "      <td>64</td>\n",
       "      <td>8:04:49 h</td>\n",
       "      <td>NaN</td>\n",
       "      <td>KAZ</td>\n",
       "      <td>1967.0</td>\n",
       "      <td>M</td>\n",
       "      <td>M50</td>\n",
       "      <td>8.663</td>\n",
       "      <td>214517</td>\n",
       "    </tr>\n",
       "    <tr>\n",
       "      <th>312812</th>\n",
       "      <td>2018</td>\n",
       "      <td>07.05.2018</td>\n",
       "      <td>Tengri Ultra (KAZ)</td>\n",
       "      <td>70km</td>\n",
       "      <td>64</td>\n",
       "      <td>8:14:51 h</td>\n",
       "      <td>NaN</td>\n",
       "      <td>KAZ</td>\n",
       "      <td>1994.0</td>\n",
       "      <td>M</td>\n",
       "      <td>M23</td>\n",
       "      <td>8.487</td>\n",
       "      <td>214518</td>\n",
       "    </tr>\n",
       "  </tbody>\n",
       "</table>\n",
       "</div>"
      ]
     },
     "execution_count": 612,
     "metadata": {},
     "output_type": "execute_result"
    }
   ],
   "execution_count": 612
  },
  {
   "metadata": {
    "ExecuteTime": {
     "end_time": "2024-08-09T09:43:34.470173Z",
     "start_time": "2024-08-09T09:43:34.466594Z"
    }
   },
   "cell_type": "code",
   "source": "df2.shape",
   "id": "94e8cab661a28b24",
   "outputs": [
    {
     "data": {
      "text/plain": [
       "(796, 13)"
      ]
     },
     "execution_count": 613,
     "metadata": {},
     "output_type": "execute_result"
    }
   ],
   "execution_count": 613
  },
  {
   "metadata": {
    "ExecuteTime": {
     "end_time": "2024-08-09T09:43:34.473143Z",
     "start_time": "2024-08-09T09:43:34.470173Z"
    }
   },
   "cell_type": "code",
   "source": [
    "def remove_country_code(value) -> str:\n",
    "    return value.replace(\" (KAZ)\", \"\")"
   ],
   "id": "a0b1bfd07e55c8b7",
   "outputs": [],
   "execution_count": 614
  },
  {
   "metadata": {
    "ExecuteTime": {
     "end_time": "2024-08-09T09:43:34.476903Z",
     "start_time": "2024-08-09T09:43:34.473143Z"
    }
   },
   "cell_type": "code",
   "source": [
    "#remove KAZ from event name\n",
    "df2['Event name'] = df2['Event name'].apply(remove_country_code)"
   ],
   "id": "e6f7ec3913c0887e",
   "outputs": [
    {
     "name": "stderr",
     "output_type": "stream",
     "text": [
      "C:\\Users\\kaide\\AppData\\Local\\Temp\\ipykernel_8424\\1541494348.py:2: SettingWithCopyWarning: \n",
      "A value is trying to be set on a copy of a slice from a DataFrame.\n",
      "Try using .loc[row_indexer,col_indexer] = value instead\n",
      "\n",
      "See the caveats in the documentation: https://pandas.pydata.org/pandas-docs/stable/user_guide/indexing.html#returning-a-view-versus-a-copy\n",
      "  df2['Event name'] = df2['Event name'].apply(remove_country_code)\n"
     ]
    }
   ],
   "execution_count": 615
  },
  {
   "metadata": {
    "ExecuteTime": {
     "end_time": "2024-08-09T09:43:34.480785Z",
     "start_time": "2024-08-09T09:43:34.476903Z"
    }
   },
   "cell_type": "code",
   "source": [
    "def remove_h_letter(value) -> str:\n",
    "    return value.replace(\" h\", \"\")\n",
    "\n",
    "df2['Athlete performance'] = df2['Athlete performance'].apply(remove_h_letter)"
   ],
   "id": "f7f3a433aa6a5708",
   "outputs": [
    {
     "name": "stderr",
     "output_type": "stream",
     "text": [
      "C:\\Users\\kaide\\AppData\\Local\\Temp\\ipykernel_8424\\2426776339.py:4: SettingWithCopyWarning: \n",
      "A value is trying to be set on a copy of a slice from a DataFrame.\n",
      "Try using .loc[row_indexer,col_indexer] = value instead\n",
      "\n",
      "See the caveats in the documentation: https://pandas.pydata.org/pandas-docs/stable/user_guide/indexing.html#returning-a-view-versus-a-copy\n",
      "  df2['Athlete performance'] = df2['Athlete performance'].apply(remove_h_letter)\n"
     ]
    }
   ],
   "execution_count": 616
  },
  {
   "metadata": {
    "ExecuteTime": {
     "end_time": "2024-08-09T09:43:34.484847Z",
     "start_time": "2024-08-09T09:43:34.480785Z"
    }
   },
   "cell_type": "code",
   "source": [
    "df2 = df2[df2['Athlete year of birth'].notna()]  # delete all NaN year of birth rows\n",
    "df2['Athlete age'] = df2['Year of event'] - df2['Athlete year of birth'].astype(int)  # Get age of athlete"
   ],
   "id": "9b1cdb342da7ca42",
   "outputs": [],
   "execution_count": 617
  },
  {
   "metadata": {
    "ExecuteTime": {
     "end_time": "2024-08-09T09:43:34.489489Z",
     "start_time": "2024-08-09T09:43:34.486848Z"
    }
   },
   "cell_type": "code",
   "source": "df2 = df2.drop(['Athlete club', 'Athlete country', 'Athlete year of birth', 'Athlete age category'], axis=1)",
   "id": "63bff88076d67890",
   "outputs": [],
   "execution_count": 618
  },
  {
   "metadata": {
    "ExecuteTime": {
     "end_time": "2024-08-09T09:43:34.497062Z",
     "start_time": "2024-08-09T09:43:34.489489Z"
    }
   },
   "cell_type": "code",
   "source": "df2.head(10)",
   "id": "6df8455f473e44ef",
   "outputs": [
    {
     "data": {
      "text/plain": [
       "        Year of event Event dates    Event name Event distance/length  \\\n",
       "312803           2018  07.05.2018  Tengri Ultra                  70km   \n",
       "312804           2018  07.05.2018  Tengri Ultra                  70km   \n",
       "312805           2018  07.05.2018  Tengri Ultra                  70km   \n",
       "312806           2018  07.05.2018  Tengri Ultra                  70km   \n",
       "312807           2018  07.05.2018  Tengri Ultra                  70km   \n",
       "312808           2018  07.05.2018  Tengri Ultra                  70km   \n",
       "312809           2018  07.05.2018  Tengri Ultra                  70km   \n",
       "312810           2018  07.05.2018  Tengri Ultra                  70km   \n",
       "312811           2018  07.05.2018  Tengri Ultra                  70km   \n",
       "312812           2018  07.05.2018  Tengri Ultra                  70km   \n",
       "\n",
       "        Event number of finishers Athlete performance Athlete gender  \\\n",
       "312803                         64             6:25:34              M   \n",
       "312804                         64             6:47:59              M   \n",
       "312805                         64             7:17:06              F   \n",
       "312806                         64             7:20:15              M   \n",
       "312807                         64             7:32:55              M   \n",
       "312808                         64             7:33:17              M   \n",
       "312809                         64             7:51:37              M   \n",
       "312810                         64             7:58:01              M   \n",
       "312811                         64             8:04:49              M   \n",
       "312812                         64             8:14:51              M   \n",
       "\n",
       "       Athlete average speed  Athlete ID  Athlete age  \n",
       "312803                10.893      151462           35  \n",
       "312804                10.295      214512           30  \n",
       "312805                 9.609      214513           28  \n",
       "312806                  9.54      109970           37  \n",
       "312807                 9.273      214514           32  \n",
       "312808                 9.266       57687           38  \n",
       "312809                 8.906      214515           27  \n",
       "312810                 8.786      214516           33  \n",
       "312811                 8.663      214517           51  \n",
       "312812                 8.487      214518           24  "
      ],
      "text/html": [
       "<div>\n",
       "<style scoped>\n",
       "    .dataframe tbody tr th:only-of-type {\n",
       "        vertical-align: middle;\n",
       "    }\n",
       "\n",
       "    .dataframe tbody tr th {\n",
       "        vertical-align: top;\n",
       "    }\n",
       "\n",
       "    .dataframe thead th {\n",
       "        text-align: right;\n",
       "    }\n",
       "</style>\n",
       "<table border=\"1\" class=\"dataframe\">\n",
       "  <thead>\n",
       "    <tr style=\"text-align: right;\">\n",
       "      <th></th>\n",
       "      <th>Year of event</th>\n",
       "      <th>Event dates</th>\n",
       "      <th>Event name</th>\n",
       "      <th>Event distance/length</th>\n",
       "      <th>Event number of finishers</th>\n",
       "      <th>Athlete performance</th>\n",
       "      <th>Athlete gender</th>\n",
       "      <th>Athlete average speed</th>\n",
       "      <th>Athlete ID</th>\n",
       "      <th>Athlete age</th>\n",
       "    </tr>\n",
       "  </thead>\n",
       "  <tbody>\n",
       "    <tr>\n",
       "      <th>312803</th>\n",
       "      <td>2018</td>\n",
       "      <td>07.05.2018</td>\n",
       "      <td>Tengri Ultra</td>\n",
       "      <td>70km</td>\n",
       "      <td>64</td>\n",
       "      <td>6:25:34</td>\n",
       "      <td>M</td>\n",
       "      <td>10.893</td>\n",
       "      <td>151462</td>\n",
       "      <td>35</td>\n",
       "    </tr>\n",
       "    <tr>\n",
       "      <th>312804</th>\n",
       "      <td>2018</td>\n",
       "      <td>07.05.2018</td>\n",
       "      <td>Tengri Ultra</td>\n",
       "      <td>70km</td>\n",
       "      <td>64</td>\n",
       "      <td>6:47:59</td>\n",
       "      <td>M</td>\n",
       "      <td>10.295</td>\n",
       "      <td>214512</td>\n",
       "      <td>30</td>\n",
       "    </tr>\n",
       "    <tr>\n",
       "      <th>312805</th>\n",
       "      <td>2018</td>\n",
       "      <td>07.05.2018</td>\n",
       "      <td>Tengri Ultra</td>\n",
       "      <td>70km</td>\n",
       "      <td>64</td>\n",
       "      <td>7:17:06</td>\n",
       "      <td>F</td>\n",
       "      <td>9.609</td>\n",
       "      <td>214513</td>\n",
       "      <td>28</td>\n",
       "    </tr>\n",
       "    <tr>\n",
       "      <th>312806</th>\n",
       "      <td>2018</td>\n",
       "      <td>07.05.2018</td>\n",
       "      <td>Tengri Ultra</td>\n",
       "      <td>70km</td>\n",
       "      <td>64</td>\n",
       "      <td>7:20:15</td>\n",
       "      <td>M</td>\n",
       "      <td>9.54</td>\n",
       "      <td>109970</td>\n",
       "      <td>37</td>\n",
       "    </tr>\n",
       "    <tr>\n",
       "      <th>312807</th>\n",
       "      <td>2018</td>\n",
       "      <td>07.05.2018</td>\n",
       "      <td>Tengri Ultra</td>\n",
       "      <td>70km</td>\n",
       "      <td>64</td>\n",
       "      <td>7:32:55</td>\n",
       "      <td>M</td>\n",
       "      <td>9.273</td>\n",
       "      <td>214514</td>\n",
       "      <td>32</td>\n",
       "    </tr>\n",
       "    <tr>\n",
       "      <th>312808</th>\n",
       "      <td>2018</td>\n",
       "      <td>07.05.2018</td>\n",
       "      <td>Tengri Ultra</td>\n",
       "      <td>70km</td>\n",
       "      <td>64</td>\n",
       "      <td>7:33:17</td>\n",
       "      <td>M</td>\n",
       "      <td>9.266</td>\n",
       "      <td>57687</td>\n",
       "      <td>38</td>\n",
       "    </tr>\n",
       "    <tr>\n",
       "      <th>312809</th>\n",
       "      <td>2018</td>\n",
       "      <td>07.05.2018</td>\n",
       "      <td>Tengri Ultra</td>\n",
       "      <td>70km</td>\n",
       "      <td>64</td>\n",
       "      <td>7:51:37</td>\n",
       "      <td>M</td>\n",
       "      <td>8.906</td>\n",
       "      <td>214515</td>\n",
       "      <td>27</td>\n",
       "    </tr>\n",
       "    <tr>\n",
       "      <th>312810</th>\n",
       "      <td>2018</td>\n",
       "      <td>07.05.2018</td>\n",
       "      <td>Tengri Ultra</td>\n",
       "      <td>70km</td>\n",
       "      <td>64</td>\n",
       "      <td>7:58:01</td>\n",
       "      <td>M</td>\n",
       "      <td>8.786</td>\n",
       "      <td>214516</td>\n",
       "      <td>33</td>\n",
       "    </tr>\n",
       "    <tr>\n",
       "      <th>312811</th>\n",
       "      <td>2018</td>\n",
       "      <td>07.05.2018</td>\n",
       "      <td>Tengri Ultra</td>\n",
       "      <td>70km</td>\n",
       "      <td>64</td>\n",
       "      <td>8:04:49</td>\n",
       "      <td>M</td>\n",
       "      <td>8.663</td>\n",
       "      <td>214517</td>\n",
       "      <td>51</td>\n",
       "    </tr>\n",
       "    <tr>\n",
       "      <th>312812</th>\n",
       "      <td>2018</td>\n",
       "      <td>07.05.2018</td>\n",
       "      <td>Tengri Ultra</td>\n",
       "      <td>70km</td>\n",
       "      <td>64</td>\n",
       "      <td>8:14:51</td>\n",
       "      <td>M</td>\n",
       "      <td>8.487</td>\n",
       "      <td>214518</td>\n",
       "      <td>24</td>\n",
       "    </tr>\n",
       "  </tbody>\n",
       "</table>\n",
       "</div>"
      ]
     },
     "execution_count": 619,
     "metadata": {},
     "output_type": "execute_result"
    }
   ],
   "execution_count": 619
  },
  {
   "metadata": {
    "ExecuteTime": {
     "end_time": "2024-08-09T09:43:34.499905Z",
     "start_time": "2024-08-09T09:43:34.498063Z"
    }
   },
   "cell_type": "code",
   "source": "# clean up null values",
   "id": "5c538fb130130eb",
   "outputs": [],
   "execution_count": 620
  },
  {
   "metadata": {
    "ExecuteTime": {
     "end_time": "2024-08-09T09:43:34.504705Z",
     "start_time": "2024-08-09T09:43:34.499905Z"
    }
   },
   "cell_type": "code",
   "source": "df2.isna().sum()  # no null values",
   "id": "b7a40de2f6afc5fa",
   "outputs": [
    {
     "data": {
      "text/plain": [
       "Year of event                0\n",
       "Event dates                  0\n",
       "Event name                   0\n",
       "Event distance/length        0\n",
       "Event number of finishers    0\n",
       "Athlete performance          0\n",
       "Athlete gender               0\n",
       "Athlete average speed        0\n",
       "Athlete ID                   0\n",
       "Athlete age                  0\n",
       "dtype: int64"
      ]
     },
     "execution_count": 621,
     "metadata": {},
     "output_type": "execute_result"
    }
   ],
   "execution_count": 621
  },
  {
   "metadata": {
    "ExecuteTime": {
     "end_time": "2024-08-09T09:43:34.507491Z",
     "start_time": "2024-08-09T09:43:34.504705Z"
    }
   },
   "cell_type": "code",
   "source": "# check for duplicates",
   "id": "27e2aeda2abbe359",
   "outputs": [],
   "execution_count": 622
  },
  {
   "metadata": {
    "ExecuteTime": {
     "end_time": "2024-08-09T09:43:34.514404Z",
     "start_time": "2024-08-09T09:43:34.507491Z"
    }
   },
   "cell_type": "code",
   "source": "df2[df2.duplicated() == True]  # no duplicates",
   "id": "6481501135fd347c",
   "outputs": [
    {
     "data": {
      "text/plain": [
       "Empty DataFrame\n",
       "Columns: [Year of event, Event dates, Event name, Event distance/length, Event number of finishers, Athlete performance, Athlete gender, Athlete average speed, Athlete ID, Athlete age]\n",
       "Index: []"
      ],
      "text/html": [
       "<div>\n",
       "<style scoped>\n",
       "    .dataframe tbody tr th:only-of-type {\n",
       "        vertical-align: middle;\n",
       "    }\n",
       "\n",
       "    .dataframe tbody tr th {\n",
       "        vertical-align: top;\n",
       "    }\n",
       "\n",
       "    .dataframe thead th {\n",
       "        text-align: right;\n",
       "    }\n",
       "</style>\n",
       "<table border=\"1\" class=\"dataframe\">\n",
       "  <thead>\n",
       "    <tr style=\"text-align: right;\">\n",
       "      <th></th>\n",
       "      <th>Year of event</th>\n",
       "      <th>Event dates</th>\n",
       "      <th>Event name</th>\n",
       "      <th>Event distance/length</th>\n",
       "      <th>Event number of finishers</th>\n",
       "      <th>Athlete performance</th>\n",
       "      <th>Athlete gender</th>\n",
       "      <th>Athlete average speed</th>\n",
       "      <th>Athlete ID</th>\n",
       "      <th>Athlete age</th>\n",
       "    </tr>\n",
       "  </thead>\n",
       "  <tbody>\n",
       "  </tbody>\n",
       "</table>\n",
       "</div>"
      ]
     },
     "execution_count": 623,
     "metadata": {},
     "output_type": "execute_result"
    }
   ],
   "execution_count": 623
  },
  {
   "metadata": {
    "ExecuteTime": {
     "end_time": "2024-08-09T09:43:34.517014Z",
     "start_time": "2024-08-09T09:43:34.514404Z"
    }
   },
   "cell_type": "code",
   "source": "# reset index",
   "id": "ce056ca2f8bc08c5",
   "outputs": [],
   "execution_count": 624
  },
  {
   "metadata": {
    "ExecuteTime": {
     "end_time": "2024-08-09T09:43:34.520321Z",
     "start_time": "2024-08-09T09:43:34.517014Z"
    }
   },
   "cell_type": "code",
   "source": "df2 = df2.reset_index(drop=True)",
   "id": "1edc92f9652409e1",
   "outputs": [],
   "execution_count": 625
  },
  {
   "metadata": {
    "ExecuteTime": {
     "end_time": "2024-08-09T09:43:34.524646Z",
     "start_time": "2024-08-09T09:43:34.520321Z"
    }
   },
   "cell_type": "code",
   "source": "df2.dtypes",
   "id": "5fef80d6a955f324",
   "outputs": [
    {
     "data": {
      "text/plain": [
       "Year of event                 int64\n",
       "Event dates                  object\n",
       "Event name                   object\n",
       "Event distance/length        object\n",
       "Event number of finishers     int64\n",
       "Athlete performance          object\n",
       "Athlete gender               object\n",
       "Athlete average speed        object\n",
       "Athlete ID                    int64\n",
       "Athlete age                   int64\n",
       "dtype: object"
      ]
     },
     "execution_count": 626,
     "metadata": {},
     "output_type": "execute_result"
    }
   ],
   "execution_count": 626
  },
  {
   "metadata": {
    "ExecuteTime": {
     "end_time": "2024-08-09T09:43:34.528510Z",
     "start_time": "2024-08-09T09:43:34.524646Z"
    }
   },
   "cell_type": "code",
   "source": [
    "# Check how many races was in miles, not kilometers\n",
    "df2[df2['Event distance/length'] == '50mi'].shape[0]    "
   ],
   "id": "d6c8179c16ec2797",
   "outputs": [
    {
     "data": {
      "text/plain": [
       "0"
      ]
     },
     "execution_count": 627,
     "metadata": {},
     "output_type": "execute_result"
    }
   ],
   "execution_count": 627
  },
  {
   "metadata": {
    "ExecuteTime": {
     "end_time": "2024-08-09T09:43:34.532050Z",
     "start_time": "2024-08-09T09:43:34.528510Z"
    }
   },
   "cell_type": "code",
   "source": [
    "# Remove km postfix in distance/length\n",
    "df2['Event distance/length'] = df2['Event distance/length'].str.split('k').str.get(0)"
   ],
   "id": "ff98cabf16728f68",
   "outputs": [],
   "execution_count": 628
  },
  {
   "metadata": {
    "ExecuteTime": {
     "end_time": "2024-08-09T09:43:34.539706Z",
     "start_time": "2024-08-09T09:43:34.532050Z"
    }
   },
   "cell_type": "code",
   "source": "df2.head(10)",
   "id": "9965ee5fd2c0cba3",
   "outputs": [
    {
     "data": {
      "text/plain": [
       "   Year of event Event dates    Event name Event distance/length  \\\n",
       "0           2018  07.05.2018  Tengri Ultra                    70   \n",
       "1           2018  07.05.2018  Tengri Ultra                    70   \n",
       "2           2018  07.05.2018  Tengri Ultra                    70   \n",
       "3           2018  07.05.2018  Tengri Ultra                    70   \n",
       "4           2018  07.05.2018  Tengri Ultra                    70   \n",
       "5           2018  07.05.2018  Tengri Ultra                    70   \n",
       "6           2018  07.05.2018  Tengri Ultra                    70   \n",
       "7           2018  07.05.2018  Tengri Ultra                    70   \n",
       "8           2018  07.05.2018  Tengri Ultra                    70   \n",
       "9           2018  07.05.2018  Tengri Ultra                    70   \n",
       "\n",
       "   Event number of finishers Athlete performance Athlete gender  \\\n",
       "0                         64             6:25:34              M   \n",
       "1                         64             6:47:59              M   \n",
       "2                         64             7:17:06              F   \n",
       "3                         64             7:20:15              M   \n",
       "4                         64             7:32:55              M   \n",
       "5                         64             7:33:17              M   \n",
       "6                         64             7:51:37              M   \n",
       "7                         64             7:58:01              M   \n",
       "8                         64             8:04:49              M   \n",
       "9                         64             8:14:51              M   \n",
       "\n",
       "  Athlete average speed  Athlete ID  Athlete age  \n",
       "0                10.893      151462           35  \n",
       "1                10.295      214512           30  \n",
       "2                 9.609      214513           28  \n",
       "3                  9.54      109970           37  \n",
       "4                 9.273      214514           32  \n",
       "5                 9.266       57687           38  \n",
       "6                 8.906      214515           27  \n",
       "7                 8.786      214516           33  \n",
       "8                 8.663      214517           51  \n",
       "9                 8.487      214518           24  "
      ],
      "text/html": [
       "<div>\n",
       "<style scoped>\n",
       "    .dataframe tbody tr th:only-of-type {\n",
       "        vertical-align: middle;\n",
       "    }\n",
       "\n",
       "    .dataframe tbody tr th {\n",
       "        vertical-align: top;\n",
       "    }\n",
       "\n",
       "    .dataframe thead th {\n",
       "        text-align: right;\n",
       "    }\n",
       "</style>\n",
       "<table border=\"1\" class=\"dataframe\">\n",
       "  <thead>\n",
       "    <tr style=\"text-align: right;\">\n",
       "      <th></th>\n",
       "      <th>Year of event</th>\n",
       "      <th>Event dates</th>\n",
       "      <th>Event name</th>\n",
       "      <th>Event distance/length</th>\n",
       "      <th>Event number of finishers</th>\n",
       "      <th>Athlete performance</th>\n",
       "      <th>Athlete gender</th>\n",
       "      <th>Athlete average speed</th>\n",
       "      <th>Athlete ID</th>\n",
       "      <th>Athlete age</th>\n",
       "    </tr>\n",
       "  </thead>\n",
       "  <tbody>\n",
       "    <tr>\n",
       "      <th>0</th>\n",
       "      <td>2018</td>\n",
       "      <td>07.05.2018</td>\n",
       "      <td>Tengri Ultra</td>\n",
       "      <td>70</td>\n",
       "      <td>64</td>\n",
       "      <td>6:25:34</td>\n",
       "      <td>M</td>\n",
       "      <td>10.893</td>\n",
       "      <td>151462</td>\n",
       "      <td>35</td>\n",
       "    </tr>\n",
       "    <tr>\n",
       "      <th>1</th>\n",
       "      <td>2018</td>\n",
       "      <td>07.05.2018</td>\n",
       "      <td>Tengri Ultra</td>\n",
       "      <td>70</td>\n",
       "      <td>64</td>\n",
       "      <td>6:47:59</td>\n",
       "      <td>M</td>\n",
       "      <td>10.295</td>\n",
       "      <td>214512</td>\n",
       "      <td>30</td>\n",
       "    </tr>\n",
       "    <tr>\n",
       "      <th>2</th>\n",
       "      <td>2018</td>\n",
       "      <td>07.05.2018</td>\n",
       "      <td>Tengri Ultra</td>\n",
       "      <td>70</td>\n",
       "      <td>64</td>\n",
       "      <td>7:17:06</td>\n",
       "      <td>F</td>\n",
       "      <td>9.609</td>\n",
       "      <td>214513</td>\n",
       "      <td>28</td>\n",
       "    </tr>\n",
       "    <tr>\n",
       "      <th>3</th>\n",
       "      <td>2018</td>\n",
       "      <td>07.05.2018</td>\n",
       "      <td>Tengri Ultra</td>\n",
       "      <td>70</td>\n",
       "      <td>64</td>\n",
       "      <td>7:20:15</td>\n",
       "      <td>M</td>\n",
       "      <td>9.54</td>\n",
       "      <td>109970</td>\n",
       "      <td>37</td>\n",
       "    </tr>\n",
       "    <tr>\n",
       "      <th>4</th>\n",
       "      <td>2018</td>\n",
       "      <td>07.05.2018</td>\n",
       "      <td>Tengri Ultra</td>\n",
       "      <td>70</td>\n",
       "      <td>64</td>\n",
       "      <td>7:32:55</td>\n",
       "      <td>M</td>\n",
       "      <td>9.273</td>\n",
       "      <td>214514</td>\n",
       "      <td>32</td>\n",
       "    </tr>\n",
       "    <tr>\n",
       "      <th>5</th>\n",
       "      <td>2018</td>\n",
       "      <td>07.05.2018</td>\n",
       "      <td>Tengri Ultra</td>\n",
       "      <td>70</td>\n",
       "      <td>64</td>\n",
       "      <td>7:33:17</td>\n",
       "      <td>M</td>\n",
       "      <td>9.266</td>\n",
       "      <td>57687</td>\n",
       "      <td>38</td>\n",
       "    </tr>\n",
       "    <tr>\n",
       "      <th>6</th>\n",
       "      <td>2018</td>\n",
       "      <td>07.05.2018</td>\n",
       "      <td>Tengri Ultra</td>\n",
       "      <td>70</td>\n",
       "      <td>64</td>\n",
       "      <td>7:51:37</td>\n",
       "      <td>M</td>\n",
       "      <td>8.906</td>\n",
       "      <td>214515</td>\n",
       "      <td>27</td>\n",
       "    </tr>\n",
       "    <tr>\n",
       "      <th>7</th>\n",
       "      <td>2018</td>\n",
       "      <td>07.05.2018</td>\n",
       "      <td>Tengri Ultra</td>\n",
       "      <td>70</td>\n",
       "      <td>64</td>\n",
       "      <td>7:58:01</td>\n",
       "      <td>M</td>\n",
       "      <td>8.786</td>\n",
       "      <td>214516</td>\n",
       "      <td>33</td>\n",
       "    </tr>\n",
       "    <tr>\n",
       "      <th>8</th>\n",
       "      <td>2018</td>\n",
       "      <td>07.05.2018</td>\n",
       "      <td>Tengri Ultra</td>\n",
       "      <td>70</td>\n",
       "      <td>64</td>\n",
       "      <td>8:04:49</td>\n",
       "      <td>M</td>\n",
       "      <td>8.663</td>\n",
       "      <td>214517</td>\n",
       "      <td>51</td>\n",
       "    </tr>\n",
       "    <tr>\n",
       "      <th>9</th>\n",
       "      <td>2018</td>\n",
       "      <td>07.05.2018</td>\n",
       "      <td>Tengri Ultra</td>\n",
       "      <td>70</td>\n",
       "      <td>64</td>\n",
       "      <td>8:14:51</td>\n",
       "      <td>M</td>\n",
       "      <td>8.487</td>\n",
       "      <td>214518</td>\n",
       "      <td>24</td>\n",
       "    </tr>\n",
       "  </tbody>\n",
       "</table>\n",
       "</div>"
      ]
     },
     "execution_count": 629,
     "metadata": {},
     "output_type": "execute_result"
    }
   ],
   "execution_count": 629
  },
  {
   "metadata": {
    "ExecuteTime": {
     "end_time": "2024-08-09T09:43:34.543240Z",
     "start_time": "2024-08-09T09:43:34.539706Z"
    }
   },
   "cell_type": "code",
   "source": "df2 = df2[df2['Event distance/length'].isin(['50', '70', '52.3'])]",
   "id": "87f4eafdd2cd47ae",
   "outputs": [],
   "execution_count": 630
  },
  {
   "metadata": {
    "ExecuteTime": {
     "end_time": "2024-08-09T09:43:34.547470Z",
     "start_time": "2024-08-09T09:43:34.543240Z"
    }
   },
   "cell_type": "code",
   "source": [
    "df2['Athlete age'] = df2['Athlete age'].astype(int)\n",
    "df2['Event name'] = df2['Event name'].astype(str)\n",
    "df2['Event distance/length'] = df2['Event distance/length'].astype(float)\n",
    "df2['Athlete average speed'] = df2['Athlete average speed'].astype(float)"
   ],
   "id": "5b494d95fffd16c0",
   "outputs": [],
   "execution_count": 631
  },
  {
   "metadata": {
    "ExecuteTime": {
     "end_time": "2024-08-09T09:43:34.551681Z",
     "start_time": "2024-08-09T09:43:34.547470Z"
    }
   },
   "cell_type": "code",
   "source": "df2.dtypes",
   "id": "99c8939180b6b17a",
   "outputs": [
    {
     "data": {
      "text/plain": [
       "Year of event                  int64\n",
       "Event dates                   object\n",
       "Event name                    object\n",
       "Event distance/length        float64\n",
       "Event number of finishers      int64\n",
       "Athlete performance           object\n",
       "Athlete gender                object\n",
       "Athlete average speed        float64\n",
       "Athlete ID                     int64\n",
       "Athlete age                    int32\n",
       "dtype: object"
      ]
     },
     "execution_count": 632,
     "metadata": {},
     "output_type": "execute_result"
    }
   ],
   "execution_count": 632
  },
  {
   "metadata": {
    "ExecuteTime": {
     "end_time": "2024-08-09T09:43:34.560272Z",
     "start_time": "2024-08-09T09:43:34.551681Z"
    }
   },
   "cell_type": "code",
   "source": "df2.head(10)",
   "id": "d4864ddad23ec65b",
   "outputs": [
    {
     "data": {
      "text/plain": [
       "   Year of event Event dates    Event name  Event distance/length  \\\n",
       "0           2018  07.05.2018  Tengri Ultra                   70.0   \n",
       "1           2018  07.05.2018  Tengri Ultra                   70.0   \n",
       "2           2018  07.05.2018  Tengri Ultra                   70.0   \n",
       "3           2018  07.05.2018  Tengri Ultra                   70.0   \n",
       "4           2018  07.05.2018  Tengri Ultra                   70.0   \n",
       "5           2018  07.05.2018  Tengri Ultra                   70.0   \n",
       "6           2018  07.05.2018  Tengri Ultra                   70.0   \n",
       "7           2018  07.05.2018  Tengri Ultra                   70.0   \n",
       "8           2018  07.05.2018  Tengri Ultra                   70.0   \n",
       "9           2018  07.05.2018  Tengri Ultra                   70.0   \n",
       "\n",
       "   Event number of finishers Athlete performance Athlete gender  \\\n",
       "0                         64             6:25:34              M   \n",
       "1                         64             6:47:59              M   \n",
       "2                         64             7:17:06              F   \n",
       "3                         64             7:20:15              M   \n",
       "4                         64             7:32:55              M   \n",
       "5                         64             7:33:17              M   \n",
       "6                         64             7:51:37              M   \n",
       "7                         64             7:58:01              M   \n",
       "8                         64             8:04:49              M   \n",
       "9                         64             8:14:51              M   \n",
       "\n",
       "   Athlete average speed  Athlete ID  Athlete age  \n",
       "0                 10.893      151462           35  \n",
       "1                 10.295      214512           30  \n",
       "2                  9.609      214513           28  \n",
       "3                  9.540      109970           37  \n",
       "4                  9.273      214514           32  \n",
       "5                  9.266       57687           38  \n",
       "6                  8.906      214515           27  \n",
       "7                  8.786      214516           33  \n",
       "8                  8.663      214517           51  \n",
       "9                  8.487      214518           24  "
      ],
      "text/html": [
       "<div>\n",
       "<style scoped>\n",
       "    .dataframe tbody tr th:only-of-type {\n",
       "        vertical-align: middle;\n",
       "    }\n",
       "\n",
       "    .dataframe tbody tr th {\n",
       "        vertical-align: top;\n",
       "    }\n",
       "\n",
       "    .dataframe thead th {\n",
       "        text-align: right;\n",
       "    }\n",
       "</style>\n",
       "<table border=\"1\" class=\"dataframe\">\n",
       "  <thead>\n",
       "    <tr style=\"text-align: right;\">\n",
       "      <th></th>\n",
       "      <th>Year of event</th>\n",
       "      <th>Event dates</th>\n",
       "      <th>Event name</th>\n",
       "      <th>Event distance/length</th>\n",
       "      <th>Event number of finishers</th>\n",
       "      <th>Athlete performance</th>\n",
       "      <th>Athlete gender</th>\n",
       "      <th>Athlete average speed</th>\n",
       "      <th>Athlete ID</th>\n",
       "      <th>Athlete age</th>\n",
       "    </tr>\n",
       "  </thead>\n",
       "  <tbody>\n",
       "    <tr>\n",
       "      <th>0</th>\n",
       "      <td>2018</td>\n",
       "      <td>07.05.2018</td>\n",
       "      <td>Tengri Ultra</td>\n",
       "      <td>70.0</td>\n",
       "      <td>64</td>\n",
       "      <td>6:25:34</td>\n",
       "      <td>M</td>\n",
       "      <td>10.893</td>\n",
       "      <td>151462</td>\n",
       "      <td>35</td>\n",
       "    </tr>\n",
       "    <tr>\n",
       "      <th>1</th>\n",
       "      <td>2018</td>\n",
       "      <td>07.05.2018</td>\n",
       "      <td>Tengri Ultra</td>\n",
       "      <td>70.0</td>\n",
       "      <td>64</td>\n",
       "      <td>6:47:59</td>\n",
       "      <td>M</td>\n",
       "      <td>10.295</td>\n",
       "      <td>214512</td>\n",
       "      <td>30</td>\n",
       "    </tr>\n",
       "    <tr>\n",
       "      <th>2</th>\n",
       "      <td>2018</td>\n",
       "      <td>07.05.2018</td>\n",
       "      <td>Tengri Ultra</td>\n",
       "      <td>70.0</td>\n",
       "      <td>64</td>\n",
       "      <td>7:17:06</td>\n",
       "      <td>F</td>\n",
       "      <td>9.609</td>\n",
       "      <td>214513</td>\n",
       "      <td>28</td>\n",
       "    </tr>\n",
       "    <tr>\n",
       "      <th>3</th>\n",
       "      <td>2018</td>\n",
       "      <td>07.05.2018</td>\n",
       "      <td>Tengri Ultra</td>\n",
       "      <td>70.0</td>\n",
       "      <td>64</td>\n",
       "      <td>7:20:15</td>\n",
       "      <td>M</td>\n",
       "      <td>9.540</td>\n",
       "      <td>109970</td>\n",
       "      <td>37</td>\n",
       "    </tr>\n",
       "    <tr>\n",
       "      <th>4</th>\n",
       "      <td>2018</td>\n",
       "      <td>07.05.2018</td>\n",
       "      <td>Tengri Ultra</td>\n",
       "      <td>70.0</td>\n",
       "      <td>64</td>\n",
       "      <td>7:32:55</td>\n",
       "      <td>M</td>\n",
       "      <td>9.273</td>\n",
       "      <td>214514</td>\n",
       "      <td>32</td>\n",
       "    </tr>\n",
       "    <tr>\n",
       "      <th>5</th>\n",
       "      <td>2018</td>\n",
       "      <td>07.05.2018</td>\n",
       "      <td>Tengri Ultra</td>\n",
       "      <td>70.0</td>\n",
       "      <td>64</td>\n",
       "      <td>7:33:17</td>\n",
       "      <td>M</td>\n",
       "      <td>9.266</td>\n",
       "      <td>57687</td>\n",
       "      <td>38</td>\n",
       "    </tr>\n",
       "    <tr>\n",
       "      <th>6</th>\n",
       "      <td>2018</td>\n",
       "      <td>07.05.2018</td>\n",
       "      <td>Tengri Ultra</td>\n",
       "      <td>70.0</td>\n",
       "      <td>64</td>\n",
       "      <td>7:51:37</td>\n",
       "      <td>M</td>\n",
       "      <td>8.906</td>\n",
       "      <td>214515</td>\n",
       "      <td>27</td>\n",
       "    </tr>\n",
       "    <tr>\n",
       "      <th>7</th>\n",
       "      <td>2018</td>\n",
       "      <td>07.05.2018</td>\n",
       "      <td>Tengri Ultra</td>\n",
       "      <td>70.0</td>\n",
       "      <td>64</td>\n",
       "      <td>7:58:01</td>\n",
       "      <td>M</td>\n",
       "      <td>8.786</td>\n",
       "      <td>214516</td>\n",
       "      <td>33</td>\n",
       "    </tr>\n",
       "    <tr>\n",
       "      <th>8</th>\n",
       "      <td>2018</td>\n",
       "      <td>07.05.2018</td>\n",
       "      <td>Tengri Ultra</td>\n",
       "      <td>70.0</td>\n",
       "      <td>64</td>\n",
       "      <td>8:04:49</td>\n",
       "      <td>M</td>\n",
       "      <td>8.663</td>\n",
       "      <td>214517</td>\n",
       "      <td>51</td>\n",
       "    </tr>\n",
       "    <tr>\n",
       "      <th>9</th>\n",
       "      <td>2018</td>\n",
       "      <td>07.05.2018</td>\n",
       "      <td>Tengri Ultra</td>\n",
       "      <td>70.0</td>\n",
       "      <td>64</td>\n",
       "      <td>8:14:51</td>\n",
       "      <td>M</td>\n",
       "      <td>8.487</td>\n",
       "      <td>214518</td>\n",
       "      <td>24</td>\n",
       "    </tr>\n",
       "  </tbody>\n",
       "</table>\n",
       "</div>"
      ]
     },
     "execution_count": 633,
     "metadata": {},
     "output_type": "execute_result"
    }
   ],
   "execution_count": 633
  },
  {
   "metadata": {
    "ExecuteTime": {
     "end_time": "2024-08-09T09:43:34.564135Z",
     "start_time": "2024-08-09T09:43:34.560272Z"
    }
   },
   "cell_type": "code",
   "source": [
    "df2 = df2.rename(columns={\n",
    "        'Athlete average speed': 'speed',\n",
    "        'Event distance/length': 'distance',\n",
    "        'Athlete age': 'age',\n",
    "        'Year of event': 'year',\n",
    "        'Event name': 'name',\n",
    "        'Event number of finishers': 'finishers',\n",
    "        'Athlete performance': 'performance',\n",
    "        'Athlete gender': 'gender',\n",
    "        'Athlete ID': 'id',\n",
    "        'Event dates': 'date'\n",
    "    }\n",
    ")"
   ],
   "id": "b8a00c5025fa4162",
   "outputs": [],
   "execution_count": 634
  },
  {
   "metadata": {
    "ExecuteTime": {
     "end_time": "2024-08-09T09:43:34.568313Z",
     "start_time": "2024-08-09T09:43:34.564135Z"
    }
   },
   "cell_type": "code",
   "source": "df2.dtypes",
   "id": "3b9ebc51541a6b56",
   "outputs": [
    {
     "data": {
      "text/plain": [
       "year             int64\n",
       "date            object\n",
       "name            object\n",
       "distance       float64\n",
       "finishers        int64\n",
       "performance     object\n",
       "gender          object\n",
       "speed          float64\n",
       "id               int64\n",
       "age              int32\n",
       "dtype: object"
      ]
     },
     "execution_count": 635,
     "metadata": {},
     "output_type": "execute_result"
    }
   ],
   "execution_count": 635
  },
  {
   "metadata": {
    "ExecuteTime": {
     "end_time": "2024-08-09T09:43:34.577233Z",
     "start_time": "2024-08-09T09:43:34.568313Z"
    }
   },
   "cell_type": "code",
   "source": "df2",
   "id": "95718cb71ece7bee",
   "outputs": [
    {
     "data": {
      "text/plain": [
       "     year        date          name  distance  finishers performance gender  \\\n",
       "0    2018  07.05.2018  Tengri Ultra      70.0         64     6:25:34      M   \n",
       "1    2018  07.05.2018  Tengri Ultra      70.0         64     6:47:59      M   \n",
       "2    2018  07.05.2018  Tengri Ultra      70.0         64     7:17:06      F   \n",
       "3    2018  07.05.2018  Tengri Ultra      70.0         64     7:20:15      M   \n",
       "4    2018  07.05.2018  Tengri Ultra      70.0         64     7:32:55      M   \n",
       "..    ...         ...           ...       ...        ...         ...    ...   \n",
       "739  2015  09.05.2015  Tengri Ultra      52.3         35    10:05:28      M   \n",
       "740  2015  09.05.2015  Tengri Ultra      52.3         35    10:12:23      M   \n",
       "741  2015  09.05.2015  Tengri Ultra      52.3         35    11:36:47      M   \n",
       "742  2015  09.05.2015  Tengri Ultra      52.3         35    11:36:49      F   \n",
       "743  2015  09.05.2015  Tengri Ultra      52.3         35    11:36:54      F   \n",
       "\n",
       "      speed       id  age  \n",
       "0    10.893   151462   35  \n",
       "1    10.295   214512   30  \n",
       "2     9.609   214513   28  \n",
       "3     9.540   109970   37  \n",
       "4     9.273   214514   32  \n",
       "..      ...      ...  ...  \n",
       "739   5.183  1488767   30  \n",
       "740   5.124   292798   29  \n",
       "741   4.504  1488768   20  \n",
       "742   4.503  1488769   33  \n",
       "743   4.503  1488770   27  \n",
       "\n",
       "[649 rows x 10 columns]"
      ],
      "text/html": [
       "<div>\n",
       "<style scoped>\n",
       "    .dataframe tbody tr th:only-of-type {\n",
       "        vertical-align: middle;\n",
       "    }\n",
       "\n",
       "    .dataframe tbody tr th {\n",
       "        vertical-align: top;\n",
       "    }\n",
       "\n",
       "    .dataframe thead th {\n",
       "        text-align: right;\n",
       "    }\n",
       "</style>\n",
       "<table border=\"1\" class=\"dataframe\">\n",
       "  <thead>\n",
       "    <tr style=\"text-align: right;\">\n",
       "      <th></th>\n",
       "      <th>year</th>\n",
       "      <th>date</th>\n",
       "      <th>name</th>\n",
       "      <th>distance</th>\n",
       "      <th>finishers</th>\n",
       "      <th>performance</th>\n",
       "      <th>gender</th>\n",
       "      <th>speed</th>\n",
       "      <th>id</th>\n",
       "      <th>age</th>\n",
       "    </tr>\n",
       "  </thead>\n",
       "  <tbody>\n",
       "    <tr>\n",
       "      <th>0</th>\n",
       "      <td>2018</td>\n",
       "      <td>07.05.2018</td>\n",
       "      <td>Tengri Ultra</td>\n",
       "      <td>70.0</td>\n",
       "      <td>64</td>\n",
       "      <td>6:25:34</td>\n",
       "      <td>M</td>\n",
       "      <td>10.893</td>\n",
       "      <td>151462</td>\n",
       "      <td>35</td>\n",
       "    </tr>\n",
       "    <tr>\n",
       "      <th>1</th>\n",
       "      <td>2018</td>\n",
       "      <td>07.05.2018</td>\n",
       "      <td>Tengri Ultra</td>\n",
       "      <td>70.0</td>\n",
       "      <td>64</td>\n",
       "      <td>6:47:59</td>\n",
       "      <td>M</td>\n",
       "      <td>10.295</td>\n",
       "      <td>214512</td>\n",
       "      <td>30</td>\n",
       "    </tr>\n",
       "    <tr>\n",
       "      <th>2</th>\n",
       "      <td>2018</td>\n",
       "      <td>07.05.2018</td>\n",
       "      <td>Tengri Ultra</td>\n",
       "      <td>70.0</td>\n",
       "      <td>64</td>\n",
       "      <td>7:17:06</td>\n",
       "      <td>F</td>\n",
       "      <td>9.609</td>\n",
       "      <td>214513</td>\n",
       "      <td>28</td>\n",
       "    </tr>\n",
       "    <tr>\n",
       "      <th>3</th>\n",
       "      <td>2018</td>\n",
       "      <td>07.05.2018</td>\n",
       "      <td>Tengri Ultra</td>\n",
       "      <td>70.0</td>\n",
       "      <td>64</td>\n",
       "      <td>7:20:15</td>\n",
       "      <td>M</td>\n",
       "      <td>9.540</td>\n",
       "      <td>109970</td>\n",
       "      <td>37</td>\n",
       "    </tr>\n",
       "    <tr>\n",
       "      <th>4</th>\n",
       "      <td>2018</td>\n",
       "      <td>07.05.2018</td>\n",
       "      <td>Tengri Ultra</td>\n",
       "      <td>70.0</td>\n",
       "      <td>64</td>\n",
       "      <td>7:32:55</td>\n",
       "      <td>M</td>\n",
       "      <td>9.273</td>\n",
       "      <td>214514</td>\n",
       "      <td>32</td>\n",
       "    </tr>\n",
       "    <tr>\n",
       "      <th>...</th>\n",
       "      <td>...</td>\n",
       "      <td>...</td>\n",
       "      <td>...</td>\n",
       "      <td>...</td>\n",
       "      <td>...</td>\n",
       "      <td>...</td>\n",
       "      <td>...</td>\n",
       "      <td>...</td>\n",
       "      <td>...</td>\n",
       "      <td>...</td>\n",
       "    </tr>\n",
       "    <tr>\n",
       "      <th>739</th>\n",
       "      <td>2015</td>\n",
       "      <td>09.05.2015</td>\n",
       "      <td>Tengri Ultra</td>\n",
       "      <td>52.3</td>\n",
       "      <td>35</td>\n",
       "      <td>10:05:28</td>\n",
       "      <td>M</td>\n",
       "      <td>5.183</td>\n",
       "      <td>1488767</td>\n",
       "      <td>30</td>\n",
       "    </tr>\n",
       "    <tr>\n",
       "      <th>740</th>\n",
       "      <td>2015</td>\n",
       "      <td>09.05.2015</td>\n",
       "      <td>Tengri Ultra</td>\n",
       "      <td>52.3</td>\n",
       "      <td>35</td>\n",
       "      <td>10:12:23</td>\n",
       "      <td>M</td>\n",
       "      <td>5.124</td>\n",
       "      <td>292798</td>\n",
       "      <td>29</td>\n",
       "    </tr>\n",
       "    <tr>\n",
       "      <th>741</th>\n",
       "      <td>2015</td>\n",
       "      <td>09.05.2015</td>\n",
       "      <td>Tengri Ultra</td>\n",
       "      <td>52.3</td>\n",
       "      <td>35</td>\n",
       "      <td>11:36:47</td>\n",
       "      <td>M</td>\n",
       "      <td>4.504</td>\n",
       "      <td>1488768</td>\n",
       "      <td>20</td>\n",
       "    </tr>\n",
       "    <tr>\n",
       "      <th>742</th>\n",
       "      <td>2015</td>\n",
       "      <td>09.05.2015</td>\n",
       "      <td>Tengri Ultra</td>\n",
       "      <td>52.3</td>\n",
       "      <td>35</td>\n",
       "      <td>11:36:49</td>\n",
       "      <td>F</td>\n",
       "      <td>4.503</td>\n",
       "      <td>1488769</td>\n",
       "      <td>33</td>\n",
       "    </tr>\n",
       "    <tr>\n",
       "      <th>743</th>\n",
       "      <td>2015</td>\n",
       "      <td>09.05.2015</td>\n",
       "      <td>Tengri Ultra</td>\n",
       "      <td>52.3</td>\n",
       "      <td>35</td>\n",
       "      <td>11:36:54</td>\n",
       "      <td>F</td>\n",
       "      <td>4.503</td>\n",
       "      <td>1488770</td>\n",
       "      <td>27</td>\n",
       "    </tr>\n",
       "  </tbody>\n",
       "</table>\n",
       "<p>649 rows × 10 columns</p>\n",
       "</div>"
      ]
     },
     "execution_count": 636,
     "metadata": {},
     "output_type": "execute_result"
    }
   ],
   "execution_count": 636
  },
  {
   "metadata": {
    "ExecuteTime": {
     "end_time": "2024-08-09T09:43:34.581264Z",
     "start_time": "2024-08-09T09:43:34.578234Z"
    }
   },
   "cell_type": "code",
   "source": "df3 = df2[['date', 'name', 'distance', 'finishers', 'id', 'gender', 'speed', 'performance', 'age', 'year']]",
   "id": "840805fb7f00d54a",
   "outputs": [],
   "execution_count": 637
  },
  {
   "metadata": {
    "ExecuteTime": {
     "end_time": "2024-08-09T09:43:34.589575Z",
     "start_time": "2024-08-09T09:43:34.581264Z"
    }
   },
   "cell_type": "code",
   "source": "df3.head(10)",
   "id": "9b978a41ec5cd56d",
   "outputs": [
    {
     "data": {
      "text/plain": [
       "         date          name  distance  finishers      id gender   speed  \\\n",
       "0  07.05.2018  Tengri Ultra      70.0         64  151462      M  10.893   \n",
       "1  07.05.2018  Tengri Ultra      70.0         64  214512      M  10.295   \n",
       "2  07.05.2018  Tengri Ultra      70.0         64  214513      F   9.609   \n",
       "3  07.05.2018  Tengri Ultra      70.0         64  109970      M   9.540   \n",
       "4  07.05.2018  Tengri Ultra      70.0         64  214514      M   9.273   \n",
       "5  07.05.2018  Tengri Ultra      70.0         64   57687      M   9.266   \n",
       "6  07.05.2018  Tengri Ultra      70.0         64  214515      M   8.906   \n",
       "7  07.05.2018  Tengri Ultra      70.0         64  214516      M   8.786   \n",
       "8  07.05.2018  Tengri Ultra      70.0         64  214517      M   8.663   \n",
       "9  07.05.2018  Tengri Ultra      70.0         64  214518      M   8.487   \n",
       "\n",
       "  performance  age  year  \n",
       "0     6:25:34   35  2018  \n",
       "1     6:47:59   30  2018  \n",
       "2     7:17:06   28  2018  \n",
       "3     7:20:15   37  2018  \n",
       "4     7:32:55   32  2018  \n",
       "5     7:33:17   38  2018  \n",
       "6     7:51:37   27  2018  \n",
       "7     7:58:01   33  2018  \n",
       "8     8:04:49   51  2018  \n",
       "9     8:14:51   24  2018  "
      ],
      "text/html": [
       "<div>\n",
       "<style scoped>\n",
       "    .dataframe tbody tr th:only-of-type {\n",
       "        vertical-align: middle;\n",
       "    }\n",
       "\n",
       "    .dataframe tbody tr th {\n",
       "        vertical-align: top;\n",
       "    }\n",
       "\n",
       "    .dataframe thead th {\n",
       "        text-align: right;\n",
       "    }\n",
       "</style>\n",
       "<table border=\"1\" class=\"dataframe\">\n",
       "  <thead>\n",
       "    <tr style=\"text-align: right;\">\n",
       "      <th></th>\n",
       "      <th>date</th>\n",
       "      <th>name</th>\n",
       "      <th>distance</th>\n",
       "      <th>finishers</th>\n",
       "      <th>id</th>\n",
       "      <th>gender</th>\n",
       "      <th>speed</th>\n",
       "      <th>performance</th>\n",
       "      <th>age</th>\n",
       "      <th>year</th>\n",
       "    </tr>\n",
       "  </thead>\n",
       "  <tbody>\n",
       "    <tr>\n",
       "      <th>0</th>\n",
       "      <td>07.05.2018</td>\n",
       "      <td>Tengri Ultra</td>\n",
       "      <td>70.0</td>\n",
       "      <td>64</td>\n",
       "      <td>151462</td>\n",
       "      <td>M</td>\n",
       "      <td>10.893</td>\n",
       "      <td>6:25:34</td>\n",
       "      <td>35</td>\n",
       "      <td>2018</td>\n",
       "    </tr>\n",
       "    <tr>\n",
       "      <th>1</th>\n",
       "      <td>07.05.2018</td>\n",
       "      <td>Tengri Ultra</td>\n",
       "      <td>70.0</td>\n",
       "      <td>64</td>\n",
       "      <td>214512</td>\n",
       "      <td>M</td>\n",
       "      <td>10.295</td>\n",
       "      <td>6:47:59</td>\n",
       "      <td>30</td>\n",
       "      <td>2018</td>\n",
       "    </tr>\n",
       "    <tr>\n",
       "      <th>2</th>\n",
       "      <td>07.05.2018</td>\n",
       "      <td>Tengri Ultra</td>\n",
       "      <td>70.0</td>\n",
       "      <td>64</td>\n",
       "      <td>214513</td>\n",
       "      <td>F</td>\n",
       "      <td>9.609</td>\n",
       "      <td>7:17:06</td>\n",
       "      <td>28</td>\n",
       "      <td>2018</td>\n",
       "    </tr>\n",
       "    <tr>\n",
       "      <th>3</th>\n",
       "      <td>07.05.2018</td>\n",
       "      <td>Tengri Ultra</td>\n",
       "      <td>70.0</td>\n",
       "      <td>64</td>\n",
       "      <td>109970</td>\n",
       "      <td>M</td>\n",
       "      <td>9.540</td>\n",
       "      <td>7:20:15</td>\n",
       "      <td>37</td>\n",
       "      <td>2018</td>\n",
       "    </tr>\n",
       "    <tr>\n",
       "      <th>4</th>\n",
       "      <td>07.05.2018</td>\n",
       "      <td>Tengri Ultra</td>\n",
       "      <td>70.0</td>\n",
       "      <td>64</td>\n",
       "      <td>214514</td>\n",
       "      <td>M</td>\n",
       "      <td>9.273</td>\n",
       "      <td>7:32:55</td>\n",
       "      <td>32</td>\n",
       "      <td>2018</td>\n",
       "    </tr>\n",
       "    <tr>\n",
       "      <th>5</th>\n",
       "      <td>07.05.2018</td>\n",
       "      <td>Tengri Ultra</td>\n",
       "      <td>70.0</td>\n",
       "      <td>64</td>\n",
       "      <td>57687</td>\n",
       "      <td>M</td>\n",
       "      <td>9.266</td>\n",
       "      <td>7:33:17</td>\n",
       "      <td>38</td>\n",
       "      <td>2018</td>\n",
       "    </tr>\n",
       "    <tr>\n",
       "      <th>6</th>\n",
       "      <td>07.05.2018</td>\n",
       "      <td>Tengri Ultra</td>\n",
       "      <td>70.0</td>\n",
       "      <td>64</td>\n",
       "      <td>214515</td>\n",
       "      <td>M</td>\n",
       "      <td>8.906</td>\n",
       "      <td>7:51:37</td>\n",
       "      <td>27</td>\n",
       "      <td>2018</td>\n",
       "    </tr>\n",
       "    <tr>\n",
       "      <th>7</th>\n",
       "      <td>07.05.2018</td>\n",
       "      <td>Tengri Ultra</td>\n",
       "      <td>70.0</td>\n",
       "      <td>64</td>\n",
       "      <td>214516</td>\n",
       "      <td>M</td>\n",
       "      <td>8.786</td>\n",
       "      <td>7:58:01</td>\n",
       "      <td>33</td>\n",
       "      <td>2018</td>\n",
       "    </tr>\n",
       "    <tr>\n",
       "      <th>8</th>\n",
       "      <td>07.05.2018</td>\n",
       "      <td>Tengri Ultra</td>\n",
       "      <td>70.0</td>\n",
       "      <td>64</td>\n",
       "      <td>214517</td>\n",
       "      <td>M</td>\n",
       "      <td>8.663</td>\n",
       "      <td>8:04:49</td>\n",
       "      <td>51</td>\n",
       "      <td>2018</td>\n",
       "    </tr>\n",
       "    <tr>\n",
       "      <th>9</th>\n",
       "      <td>07.05.2018</td>\n",
       "      <td>Tengri Ultra</td>\n",
       "      <td>70.0</td>\n",
       "      <td>64</td>\n",
       "      <td>214518</td>\n",
       "      <td>M</td>\n",
       "      <td>8.487</td>\n",
       "      <td>8:14:51</td>\n",
       "      <td>24</td>\n",
       "      <td>2018</td>\n",
       "    </tr>\n",
       "  </tbody>\n",
       "</table>\n",
       "</div>"
      ]
     },
     "execution_count": 638,
     "metadata": {},
     "output_type": "execute_result"
    }
   ],
   "execution_count": 638
  },
  {
   "metadata": {
    "ExecuteTime": {
     "end_time": "2024-08-09T09:43:34.675190Z",
     "start_time": "2024-08-09T09:43:34.589575Z"
    }
   },
   "cell_type": "code",
   "source": "sns.histplot(df3['name'])  # marathons histogram",
   "id": "1f3078803c06b795",
   "outputs": [
    {
     "data": {
      "text/plain": [
       "<Axes: xlabel='name', ylabel='Count'>"
      ]
     },
     "execution_count": 639,
     "metadata": {},
     "output_type": "execute_result"
    },
    {
     "data": {
      "text/plain": [
       "<Figure size 640x480 with 1 Axes>"
      ],
      "image/png": "[encoded data removed]"
     },
     "metadata": {},
     "output_type": "display_data"
    }
   ],
   "execution_count": 639
  },
  {
   "metadata": {
    "ExecuteTime": {
     "end_time": "2024-08-09T09:43:34.888595Z",
     "start_time": "2024-08-09T09:43:34.676191Z"
    }
   },
   "cell_type": "code",
   "source": "sns.histplot(df3, x='age', hue='name')  # gender stats histogram",
   "id": "f22afc51898c88ff",
   "outputs": [
    {
     "data": {
      "text/plain": [
       "<Axes: xlabel='age', ylabel='Count'>"
      ]
     },
     "execution_count": 640,
     "metadata": {},
     "output_type": "execute_result"
    },
    {
     "data": {
      "text/plain": [
       "<Figure size 640x480 with 1 Axes>"
      ],
      "image/png": "[encoded data removed]"
     },
     "metadata": {},
     "output_type": "display_data"
    }
   ],
   "execution_count": 640
  },
  {
   "metadata": {
    "ExecuteTime": {
     "end_time": "2024-08-09T09:43:35.074903Z",
     "start_time": "2024-08-09T09:43:34.889596Z"
    }
   },
   "cell_type": "code",
   "source": "sns.histplot(df3[df3['age'] > 30], x='speed', hue='name')  # participants over 30 y.o. speed distogram",
   "id": "a858f1ed8c8757ed",
   "outputs": [
    {
     "data": {
      "text/plain": [
       "<Axes: xlabel='speed', ylabel='Count'>"
      ]
     },
     "execution_count": 641,
     "metadata": {},
     "output_type": "execute_result"
    },
    {
     "data": {
      "text/plain": [
       "<Figure size 640x480 with 1 Axes>"
      ],
      "image/png": "[encoded data removed]"
     },
     "metadata": {},
     "output_type": "display_data"
    }
   ],
   "execution_count": 641
  },
  {
   "metadata": {
    "ExecuteTime": {
     "end_time": "2024-08-09T09:43:35.214499Z",
     "start_time": "2024-08-09T09:43:35.075904Z"
    }
   },
   "cell_type": "code",
   "source": "sns.histplot(df3[df3['name'] == 'Tengri Ultra'], x='year', hue='gender')",
   "id": "ac18c08dfbbf383b",
   "outputs": [
    {
     "data": {
      "text/plain": [
       "<Axes: xlabel='year', ylabel='Count'>"
      ]
     },
     "execution_count": 642,
     "metadata": {},
     "output_type": "execute_result"
    },
    {
     "data": {
      "text/plain": [
       "<Figure size 640x480 with 1 Axes>"
      ],
      "image/png": "[encoded data removed]"
     },
     "metadata": {},
     "output_type": "display_data"
    }
   ],
   "execution_count": 642
  },
  {
   "metadata": {
    "ExecuteTime": {
     "end_time": "2024-08-09T09:43:35.410832Z",
     "start_time": "2024-08-09T09:43:35.215501Z"
    }
   },
   "cell_type": "code",
   "source": "sns.histplot(df3, x='year', hue='name')",
   "id": "6b250372e25df55b",
   "outputs": [
    {
     "data": {
      "text/plain": [
       "<Axes: xlabel='year', ylabel='Count'>"
      ]
     },
     "execution_count": 643,
     "metadata": {},
     "output_type": "execute_result"
    },
    {
     "data": {
      "text/plain": [
       "<Figure size 640x480 with 1 Axes>"
      ],
      "image/png": "[encoded data removed]"
     },
     "metadata": {},
     "output_type": "display_data"
    }
   ],
   "execution_count": 643
  },
  {
   "metadata": {
    "ExecuteTime": {
     "end_time": "2024-08-09T09:43:35.536111Z",
     "start_time": "2024-08-09T09:43:35.410832Z"
    }
   },
   "cell_type": "code",
   "source": "sns.countplot(df3[df3['name'] == 'Tengri Ultra'], x='year', hue='gender')",
   "id": "8ec3bdb7db663e8c",
   "outputs": [
    {
     "data": {
      "text/plain": [
       "<Axes: xlabel='year', ylabel='count'>"
      ]
     },
     "execution_count": 644,
     "metadata": {},
     "output_type": "execute_result"
    },
    {
     "data": {
      "text/plain": [
       "<Figure size 640x480 with 1 Axes>"
      ],
      "image/png": "[encoded data removed]"
     },
     "metadata": {},
     "output_type": "display_data"
    }
   ],
   "execution_count": 644
  },
  {
   "metadata": {
    "ExecuteTime": {
     "end_time": "2024-08-09T09:43:35.711216Z",
     "start_time": "2024-08-09T09:43:35.538113Z"
    }
   },
   "cell_type": "code",
   "source": "sns.lineplot(df3[df3['name'] == 'Tengri Ultra'], x='year', y='speed')",
   "id": "90f6bf1007149036",
   "outputs": [
    {
     "data": {
      "text/plain": [
       "<Axes: xlabel='year', ylabel='speed'>"
      ]
     },
     "execution_count": 645,
     "metadata": {},
     "output_type": "execute_result"
    },
    {
     "data": {
      "text/plain": [
       "<Figure size 640x480 with 1 Axes>"
      ],
      "image/png": "[encoded data removed]"
     },
     "metadata": {},
     "output_type": "display_data"
    }
   ],
   "execution_count": 645
  },
  {
   "metadata": {
    "ExecuteTime": {
     "end_time": "2024-08-09T09:43:35.737178Z",
     "start_time": "2024-08-09T09:43:35.711216Z"
    }
   },
   "cell_type": "code",
   "source": [
    "from collections import defaultdict\n",
    "\n",
    "data = {}\n",
    "for year in df3['year'].unique():\n",
    "    data[year] = defaultdict(int)\n",
    "for row in df3.iterrows():\n",
    "    data[row[1]['year']]['speed'] += row[1]['speed']\n",
    "    data[row[1]['year']]['count'] += 1\n",
    "\n",
    "new_data = defaultdict(int)\n",
    "for k, v in data.items():\n",
    "    new_data[k] = v['speed'] / v['count']\n",
    "new_data"
   ],
   "id": "d1663c4110e74ed",
   "outputs": [
    {
     "data": {
      "text/plain": [
       "defaultdict(int,\n",
       "            {2018: 5.474051428571429,\n",
       "             2016: 7.0176470588235285,\n",
       "             2017: 5.925965753424659,\n",
       "             2019: 5.643822834645675,\n",
       "             2021: 8.260363636363637,\n",
       "             2015: 6.659399999999999})"
      ]
     },
     "execution_count": 646,
     "metadata": {},
     "output_type": "execute_result"
    }
   ],
   "execution_count": 646
  },
  {
   "metadata": {
    "ExecuteTime": {
     "end_time": "2024-08-09T09:43:35.743107Z",
     "start_time": "2024-08-09T09:43:35.738180Z"
    }
   },
   "cell_type": "code",
   "source": [
    "df5 = df3[(df3['name'] == 'Tengri Ultra') & (df3['gender'] == 'M')].groupby('year').mean('speed')\n",
    "df6 = df3[(df3['name'] == 'Tengri Ultra') & (df3['gender'] == 'F')].groupby('year').mean('speed')"
   ],
   "id": "396f3734a59115c5",
   "outputs": [],
   "execution_count": 647
  },
  {
   "metadata": {
    "ExecuteTime": {
     "end_time": "2024-08-09T09:43:35.746438Z",
     "start_time": "2024-08-09T09:43:35.743107Z"
    }
   },
   "cell_type": "code",
   "source": "df5['gender'] = 'M'",
   "id": "b0f592573069e7ab",
   "outputs": [],
   "execution_count": 648
  },
  {
   "metadata": {
    "ExecuteTime": {
     "end_time": "2024-08-09T09:43:35.749666Z",
     "start_time": "2024-08-09T09:43:35.746438Z"
    }
   },
   "cell_type": "code",
   "source": "df6['gender'] = 'F'",
   "id": "512277aff16679cb",
   "outputs": [],
   "execution_count": 649
  },
  {
   "metadata": {
    "ExecuteTime": {
     "end_time": "2024-08-09T09:43:35.753537Z",
     "start_time": "2024-08-09T09:43:35.749666Z"
    }
   },
   "cell_type": "code",
   "source": "df7 = pd.concat([df5.drop(['finishers', 'id'], axis=1), df6.drop(['finishers', 'id'], axis=1)])",
   "id": "bf72cca4ddbd4bb0",
   "outputs": [],
   "execution_count": 650
  },
  {
   "metadata": {
    "ExecuteTime": {
     "end_time": "2024-08-09T09:43:35.760114Z",
     "start_time": "2024-08-09T09:43:35.753537Z"
    }
   },
   "cell_type": "code",
   "source": "df7",
   "id": "47f72a7e1bc65c32",
   "outputs": [
    {
     "data": {
      "text/plain": [
       "      distance     speed        age gender\n",
       "year                                      \n",
       "2015      52.3  6.794333  34.633333      M\n",
       "2016      70.0  7.036071  37.285714      M\n",
       "2017      70.0  7.727094  35.943396      M\n",
       "2018      70.0  7.356404  34.298246      M\n",
       "2019      70.0  7.481250  35.881579      M\n",
       "2021      70.0  8.307190  38.380952      M\n",
       "2015      52.3  5.849800  28.600000      F\n",
       "2016      70.0  6.931667  35.333333      F\n",
       "2017      70.0  6.836500  34.500000      F\n",
       "2018      70.0  7.171143  29.285714      F\n",
       "2019      70.0  7.688154  31.538462      F\n",
       "2021      70.0  7.277000  38.000000      F"
      ],
      "text/html": [
       "<div>\n",
       "<style scoped>\n",
       "    .dataframe tbody tr th:only-of-type {\n",
       "        vertical-align: middle;\n",
       "    }\n",
       "\n",
       "    .dataframe tbody tr th {\n",
       "        vertical-align: top;\n",
       "    }\n",
       "\n",
       "    .dataframe thead th {\n",
       "        text-align: right;\n",
       "    }\n",
       "</style>\n",
       "<table border=\"1\" class=\"dataframe\">\n",
       "  <thead>\n",
       "    <tr style=\"text-align: right;\">\n",
       "      <th></th>\n",
       "      <th>distance</th>\n",
       "      <th>speed</th>\n",
       "      <th>age</th>\n",
       "      <th>gender</th>\n",
       "    </tr>\n",
       "    <tr>\n",
       "      <th>year</th>\n",
       "      <th></th>\n",
       "      <th></th>\n",
       "      <th></th>\n",
       "      <th></th>\n",
       "    </tr>\n",
       "  </thead>\n",
       "  <tbody>\n",
       "    <tr>\n",
       "      <th>2015</th>\n",
       "      <td>52.3</td>\n",
       "      <td>6.794333</td>\n",
       "      <td>34.633333</td>\n",
       "      <td>M</td>\n",
       "    </tr>\n",
       "    <tr>\n",
       "      <th>2016</th>\n",
       "      <td>70.0</td>\n",
       "      <td>7.036071</td>\n",
       "      <td>37.285714</td>\n",
       "      <td>M</td>\n",
       "    </tr>\n",
       "    <tr>\n",
       "      <th>2017</th>\n",
       "      <td>70.0</td>\n",
       "      <td>7.727094</td>\n",
       "      <td>35.943396</td>\n",
       "      <td>M</td>\n",
       "    </tr>\n",
       "    <tr>\n",
       "      <th>2018</th>\n",
       "      <td>70.0</td>\n",
       "      <td>7.356404</td>\n",
       "      <td>34.298246</td>\n",
       "      <td>M</td>\n",
       "    </tr>\n",
       "    <tr>\n",
       "      <th>2019</th>\n",
       "      <td>70.0</td>\n",
       "      <td>7.481250</td>\n",
       "      <td>35.881579</td>\n",
       "      <td>M</td>\n",
       "    </tr>\n",
       "    <tr>\n",
       "      <th>2021</th>\n",
       "      <td>70.0</td>\n",
       "      <td>8.307190</td>\n",
       "      <td>38.380952</td>\n",
       "      <td>M</td>\n",
       "    </tr>\n",
       "    <tr>\n",
       "      <th>2015</th>\n",
       "      <td>52.3</td>\n",
       "      <td>5.849800</td>\n",
       "      <td>28.600000</td>\n",
       "      <td>F</td>\n",
       "    </tr>\n",
       "    <tr>\n",
       "      <th>2016</th>\n",
       "      <td>70.0</td>\n",
       "      <td>6.931667</td>\n",
       "      <td>35.333333</td>\n",
       "      <td>F</td>\n",
       "    </tr>\n",
       "    <tr>\n",
       "      <th>2017</th>\n",
       "      <td>70.0</td>\n",
       "      <td>6.836500</td>\n",
       "      <td>34.500000</td>\n",
       "      <td>F</td>\n",
       "    </tr>\n",
       "    <tr>\n",
       "      <th>2018</th>\n",
       "      <td>70.0</td>\n",
       "      <td>7.171143</td>\n",
       "      <td>29.285714</td>\n",
       "      <td>F</td>\n",
       "    </tr>\n",
       "    <tr>\n",
       "      <th>2019</th>\n",
       "      <td>70.0</td>\n",
       "      <td>7.688154</td>\n",
       "      <td>31.538462</td>\n",
       "      <td>F</td>\n",
       "    </tr>\n",
       "    <tr>\n",
       "      <th>2021</th>\n",
       "      <td>70.0</td>\n",
       "      <td>7.277000</td>\n",
       "      <td>38.000000</td>\n",
       "      <td>F</td>\n",
       "    </tr>\n",
       "  </tbody>\n",
       "</table>\n",
       "</div>"
      ]
     },
     "execution_count": 651,
     "metadata": {},
     "output_type": "execute_result"
    }
   ],
   "execution_count": 651
  },
  {
   "metadata": {
    "ExecuteTime": {
     "end_time": "2024-08-09T09:43:35.880486Z",
     "start_time": "2024-08-09T09:43:35.761116Z"
    }
   },
   "cell_type": "code",
   "source": "sns.lineplot(df7, x='year', y='speed', hue='gender')",
   "id": "dc7dc7968bcef9b2",
   "outputs": [
    {
     "data": {
      "text/plain": [
       "<Axes: xlabel='year', ylabel='speed'>"
      ]
     },
     "execution_count": 652,
     "metadata": {},
     "output_type": "execute_result"
    },
    {
     "data": {
      "text/plain": [
       "<Figure size 640x480 with 1 Axes>"
      ],
      "image/png": "[encoded data removed]"
     },
     "metadata": {},
     "output_type": "display_data"
    }
   ],
   "execution_count": 652
  },
  {
   "metadata": {
    "ExecuteTime": {
     "end_time": "2024-08-09T09:43:35.883620Z",
     "start_time": "2024-08-09T09:43:35.881488Z"
    }
   },
   "cell_type": "code",
   "source": "",
   "id": "9082f0dc6818e750",
   "outputs": [],
   "execution_count": 652
  }
 ],
 "metadata": {
  "kernelspec": {
   "display_name": "Python 3",
   "language": "python",
   "name": "python3"
  },
  "language_info": {
   "codemirror_mode": {
    "name": "ipython",
    "version": 2
   },
   "file_extension": ".py",
   "mimetype": "text/x-python",
   "name": "python",
   "nbconvert_exporter": "python",
   "pygments_lexer": "ipython2",
   "version": "2.7.6"
  }
 },
 "nbformat": 4,
 "nbformat_minor": 5
}
